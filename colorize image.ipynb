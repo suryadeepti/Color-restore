{
 "cells": [
  {
   "cell_type": "code",
   "execution_count": 23,
   "metadata": {},
   "outputs": [],
   "source": [
    "import numpy as np\n",
    "import cv2\n",
    "import matplotlib.pyplot as plt\n",
    "protxt= \"models/colorization_deploy_v2.prototxt\"\n",
    "model= \"models/colorization_release_v2.caffemodel\"\n",
    "points= \"models/pts_in_hull.npy\"\n",
    "#image= \"models/puppy.jpg\""
   ]
  },
  {
   "cell_type": "code",
   "execution_count": 24,
   "metadata": {},
   "outputs": [],
   "source": [
    "net = cv2.dnn.readNetFromCaffe(protxt, model)\n",
    "pts = np.load(points)"
   ]
  },
  {
   "cell_type": "code",
   "execution_count": 25,
   "metadata": {},
   "outputs": [],
   "source": [
    "class8 = net.getLayerId(\"class8_ab\")\n",
    "conv8 = net.getLayerId(\"conv8_313_rh\")\n",
    "pts = pts.transpose().reshape(2, 313, 1, 1)\n",
    "net.getLayer(class8).blobs = [pts.astype(\"float32\")]\n",
    "net.getLayer(conv8).blobs = [np.full([1, 313], 2.606, dtype=\"float32\")]"
   ]
  },
  {
   "cell_type": "code",
   "execution_count": 26,
   "metadata": {},
   "outputs": [],
   "source": [
    "image = cv2.imread('puppy.jpg')\n",
    "\n",
    "scaled = image.astype(\"float32\") / 255.0\n",
    "lab = cv2.cvtColor(scaled, cv2.COLOR_BGR2LAB)\n",
    "\n",
    "resized = cv2.resize(lab, (224, 224))\n",
    "L = cv2.split(resized)[0]\n",
    "L -= 50"
   ]
  },
  {
   "cell_type": "code",
   "execution_count": 27,
   "metadata": {},
   "outputs": [],
   "source": [
    "net.setInput(cv2.dnn.blobFromImage(L))\n",
    "ab = net.forward()[0, :, :, :].transpose((1, 2, 0))"
   ]
  },
  {
   "cell_type": "code",
   "execution_count": 28,
   "metadata": {},
   "outputs": [],
   "source": [
    "ab = cv2.resize(ab, (image.shape[1], image.shape[0]))\n",
    "\n",
    "L = cv2.split(lab)[0]\n",
    "colorized = np.concatenate((L[:, :, np.newaxis], ab), axis=2)"
   ]
  },
  {
   "cell_type": "code",
   "execution_count": 29,
   "metadata": {},
   "outputs": [],
   "source": [
    "colorized = cv2.cvtColor(colorized, cv2.COLOR_LAB2BGR)\n",
    "colorized = np.clip(colorized, 0, 1)\n",
    "colorized = (255 * colorized).astype(\"uint8\")"
   ]
  },
  {
   "cell_type": "code",
   "execution_count": 30,
   "metadata": {},
   "outputs": [],
   "source": [
    "image = cv2.resize(image, (700, 700))\n",
    "colorized = cv2.resize(colorized, (700, 700))\n",
    "cv2.imshow(\"Original\", image)\n",
    "cv2.imshow(\"Restored/ colorized\", colorized)\n",
    "cv2.waitKey(0)\n",
    "cv2.destroyAllWindows()"
   ]
  },
  {
   "cell_type": "code",
   "execution_count": null,
   "metadata": {},
   "outputs": [],
   "source": []
  },
  {
   "cell_type": "code",
   "execution_count": null,
   "metadata": {},
   "outputs": [],
   "source": []
  }
 ],
 "metadata": {
  "kernelspec": {
   "display_name": "Python 3",
   "language": "python",
   "name": "python3"
  },
  "language_info": {
   "codemirror_mode": {
    "name": "ipython",
    "version": 3
   },
   "file_extension": ".py",
   "mimetype": "text/x-python",
   "name": "python",
   "nbconvert_exporter": "python",
   "pygments_lexer": "ipython3",
   "version": "3.8.5"
  }
 },
 "nbformat": 4,
 "nbformat_minor": 4
}
